{
  "nbformat": 4,
  "nbformat_minor": 0,
  "metadata": {
    "colab": {
      "provenance": [],
      "toc_visible": true,
      "mount_file_id": "1tunZOcXhSWcM9y-ox6dFMaQuO-xJIemb",
      "authorship_tag": "ABX9TyPvZBl757AliFnm6dhKO3Cf",
      "include_colab_link": true
    },
    "kernelspec": {
      "name": "python3",
      "display_name": "Python 3"
    },
    "language_info": {
      "name": "python"
    }
  },
  "cells": [
    {
      "cell_type": "markdown",
      "metadata": {
        "id": "view-in-github",
        "colab_type": "text"
      },
      "source": [
        "<a href=\"https://colab.research.google.com/github/Ryu-Yongju/Engineering-Design/blob/main/%EC%84%A0%ED%98%95%EB%8C%80%EC%88%98%ED%95%992.ipynb\" target=\"_parent\"><img src=\"https://colab.research.google.com/assets/colab-badge.svg\" alt=\"Open In Colab\"/></a>"
      ]
    },
    {
      "cell_type": "code",
      "execution_count": null,
      "metadata": {
        "id": "S9RJWNOaRp1t"
      },
      "outputs": [],
      "source": []
    }
  ]
}